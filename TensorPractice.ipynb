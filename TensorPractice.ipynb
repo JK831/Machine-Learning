{
  "nbformat": 4,
  "nbformat_minor": 0,
  "metadata": {
    "colab": {
      "name": "TensorPractice.ipynb",
      "provenance": [],
      "collapsed_sections": []
    },
    "kernelspec": {
      "name": "python3",
      "display_name": "Python 3"
    },
    "language_info": {
      "name": "python"
    }
  },
  "cells": [
    {
      "cell_type": "code",
      "metadata": {
        "colab": {
          "base_uri": "https://localhost:8080/"
        },
        "id": "iyvn7q4jLRSF",
        "outputId": "b14421df-1b59-43ed-ba4f-c3cc1fa8de74"
      },
      "source": [
        "from google.colab import drive\n",
        "drive.mount('/content/drive')"
      ],
      "execution_count": 1,
      "outputs": [
        {
          "output_type": "stream",
          "name": "stdout",
          "text": [
            "Drive already mounted at /content/drive; to attempt to forcibly remount, call drive.mount(\"/content/drive\", force_remount=True).\n"
          ]
        }
      ]
    },
    {
      "cell_type": "code",
      "metadata": {
        "id": "teCpfTXP8jk1"
      },
      "source": [
        "import requests, bs4\n",
        "import sys\n",
        "\n",
        "if sys.version_info[0] == 3:\n",
        "\n",
        "    from urllib.request import urlopen\n",
        "\n",
        "else:\n",
        "\n",
        "    from urllib import urlopen\n",
        "from urllib.parse import urlencode, quote_plus, unquote\n"
      ],
      "execution_count": 2,
      "outputs": []
    },
    {
      "cell_type": "code",
      "metadata": {
        "id": "uWcwQOlLYtLj"
      },
      "source": [
        "import xml.etree.ElementTree as ET\n",
        "from xml.etree.ElementTree import Element, dump, ElementTree"
      ],
      "execution_count": 3,
      "outputs": []
    },
    {
      "cell_type": "code",
      "metadata": {
        "id": "WrTnbciyEa-p"
      },
      "source": [
        "import datetime as dt"
      ],
      "execution_count": 4,
      "outputs": []
    },
    {
      "cell_type": "code",
      "metadata": {
        "id": "OGNqK_VVQ8M5",
        "colab": {
          "base_uri": "https://localhost:8080/"
        },
        "outputId": "430cc7b4-4107-4187-e537-47f4d2bdaf4f"
      },
      "source": [
        "import matplotlib.pyplot as plt\n",
        "import pandas as pd\n",
        "import numpy as np\n",
        "import tensorflow as tf\n",
        "from tensorflow import keras\n",
        "from tensorflow.keras import layers\n",
        "fileName = '/content/drive/MyDrive/미세먼지 데이터/forecast_2020.csv'\n",
        "#데이터 불러오기\n",
        "data = pd.read_csv(fileName)\n",
        "#weather_data = data[['temp', 'rain', 'wind', 'wind_dir', 'hum', 'press', 'cloud', 'temp_ground', 'no2', 'co', 'so2']].to_numpy() #input data는 바뀔 수 있다.\n",
        "weather_data = data[['temp', 'rain', 'wind', 'wind_dir', 'hum', 'cloud', 'no2', 'co', 'so2']].to_numpy()\n",
        "for i in range(len(weather_data)): #기상청에서 제공하는 API의 전운량에 따른 하늘 상태 분류 기준에 맞춰 데이터 가공\n",
        "  if(weather_data[i, 5] < 6):\n",
        "    weather_data[i, 5] = 1\n",
        "  elif(weather_data[i, 5] < 9):\n",
        "    weather_data[i, 5] = 3\n",
        "  else:\n",
        "    weather_data[i, 5] = 4\n",
        "\n",
        "pm_data = data[['pm10']].to_numpy()\n",
        "np.set_printoptions(suppress = True)\n",
        "print(weather_data)\n",
        "print(weather_data.shape)\n",
        "print(pm_data)\n",
        "print(pm_data.shape)"
      ],
      "execution_count": 5,
      "outputs": [
        {
          "output_type": "stream",
          "name": "stdout",
          "text": [
            "[[ 1.4    0.     1.4   ...  0.042  0.9    0.011]\n",
            " [ 0.9    0.     2.8   ...  0.043  1.     0.012]\n",
            " [ 0.6    0.     2.    ...  0.045  1.     0.012]\n",
            " ...\n",
            " [-7.2    0.     2.7   ...  0.031  0.5    0.003]\n",
            " [-7.4    0.     2.5   ...  0.027  0.5    0.003]\n",
            " [-7.6    0.     2.2   ...  0.022  0.5    0.003]]\n",
            "(48591, 9)\n",
            "[[153.]\n",
            " [159.]\n",
            " [140.]\n",
            " ...\n",
            " [ 37.]\n",
            " [ 37.]\n",
            " [ 38.]]\n",
            "(48591, 1)\n"
          ]
        }
      ]
    },
    {
      "cell_type": "code",
      "metadata": {
        "id": "oo5Ptj-JYtsF",
        "colab": {
          "base_uri": "https://localhost:8080/"
        },
        "outputId": "002d9d67-df3d-4683-de8b-faedcdf8907d"
      },
      "source": [
        "#미세먼지 수치에 따라 좋음, 보통, 나쁨, 매우 나쁨(각각 0,1,2,3)으로 분류\n",
        "def conversion(pm_data): \n",
        "  pm_target = []\n",
        "  for i in range(len(pm_data)):\n",
        "    if(pm_data[i]<=30):\n",
        "      pm_target.append(0)\n",
        "      continue\n",
        "    if(pm_data[i]<=80):\n",
        "      pm_target.append(1)\n",
        "      continue\n",
        "    if(pm_data[i]<=150):\n",
        "      pm_target.append(2)\n",
        "      continue\n",
        "    pm_target.append(3)\n",
        "  return np.array(pm_target)\n",
        "\n",
        "#numpy 배열로 변환 후 하나의 열 가진 배열로 변환\n",
        "pm_target = np.array(conversion(pm_data))\n",
        "pm_target = np.reshape(pm_target, (-1,1))\n",
        "print(pm_target)\n",
        "print(pm_target.shape)"
      ],
      "execution_count": 6,
      "outputs": [
        {
          "output_type": "stream",
          "name": "stdout",
          "text": [
            "[[3]\n",
            " [3]\n",
            " [2]\n",
            " ...\n",
            " [1]\n",
            " [1]\n",
            " [1]]\n",
            "(48591, 1)\n"
          ]
        }
      ]
    },
    {
      "cell_type": "code",
      "metadata": {
        "id": "u2DiCDO0taNJ"
      },
      "source": [
        "def build_model():\n",
        "  model = keras.Sequential([layers.Dense(200, activation='relu', input_shape=(10,)),\n",
        "                            layers.Dropout(0.3),\n",
        "                            layers.Dense(200, activation= 'relu'),\n",
        "                            layers.Dropout(0.3),\n",
        "                            layers.Dense(4, activation = 'softmax')\n",
        "                            ])\n",
        "  optimizer = tf.keras.optimizers.RMSprop(0.001)\n",
        "\n",
        "  model.compile(loss='sparse_categorical_crossentropy',\n",
        "                optimizer=optimizer,\n",
        "                metrics='accuracy')\n",
        "  return model\n",
        "\n",
        "model = build_model()\n",
        "history = model.fit(train_scaled, train_target, epochs=26,\n",
        "                    validation_data = (val_scaled, val_target), verbose = 0, callbacks = [PrintDot()])"
      ],
      "execution_count": null,
      "outputs": []
    },
    {
      "cell_type": "code",
      "metadata": {
        "id": "0eQZKTApz9NL"
      },
      "source": [
        "class PrintDot(keras.callbacks.Callback):\n",
        "  def on_epoch_end(self, epoch, logs):\n",
        "    if epoch % 100 == 0: print('')\n",
        "    print('.', end='')\n",
        "EPOCHS = 1000"
      ],
      "execution_count": 9,
      "outputs": []
    },
    {
      "cell_type": "code",
      "metadata": {
        "colab": {
          "base_uri": "https://localhost:8080/"
        },
        "id": "j9ZZbPC7Q0Bz",
        "outputId": "069c9164-9661-4323-f799-1d551a4bb8a9"
      },
      "source": [
        "from sklearn.model_selection import train_test_split\n",
        "from sklearn.preprocessing import StandardScaler\n",
        "train_input, val_input, train_target, val_target = train_test_split(weather_data, pm_data, test_size = 0.1, random_state = 42)\n",
        "\n",
        "ss = StandardScaler()\n",
        "ss.fit(train_input)\n",
        "\n",
        "train_scaled = ss.transform(train_input)\n",
        "train_scaled = np.reshape(train_scaled, (train_scaled.shape[0], train_scaled.shape[1], 1)) #CNN-LSTM에 input으로 넣기 위해 3차원으로 모양 바꿈\n",
        "train_classified_target = conversion(train_target) #분류된 타겟\n",
        "\n",
        "val_scaled = ss.transform(val_input)\n",
        "val_scaled = np.reshape(val_scaled, (val_scaled.shape[0], val_scaled.shape[1], 1))\n",
        "val_classified_target = conversion(val_target)\n",
        "print(train_scaled.shape)\n",
        "print(val_scaled.shape)"
      ],
      "execution_count": 10,
      "outputs": [
        {
          "output_type": "stream",
          "name": "stdout",
          "text": [
            "(43731, 9, 1)\n",
            "(4860, 9, 1)\n"
          ]
        }
      ]
    },
    {
      "cell_type": "code",
      "metadata": {
        "colab": {
          "base_uri": "https://localhost:8080/"
        },
        "id": "1L-QPcf7QGF6",
        "outputId": "7cf9aebc-88dc-4924-b62d-91d66cddb387"
      },
      "source": [
        "def build_CNN_LSTM_classifier_model():\n",
        "  cnn = keras.Sequential()\n",
        "  cnn.add(layers.Conv1D(filters = 32, kernel_size = 3, activation='relu', padding = 'same', input_shape = (9, 1))) #input data 인자의 개수가 바뀌면 수정해줘야 함\n",
        "  cnn.add(layers.MaxPooling1D(pool_size=(2)))\n",
        "  cnn.add(layers.Dropout(0.3))\n",
        "  \n",
        "  model = keras.Sequential()\n",
        "  model.add(cnn)\n",
        "  model.add(layers.LSTM(128, return_sequences = True))\n",
        "  model.add(layers.Dropout(0.3))\n",
        "  model.add(layers.LSTM(128, return_sequences = True))\n",
        "  model.add(layers.Dropout(0.3))\n",
        "  model.add(layers.LSTM(128, return_sequences = False))\n",
        "  model.add(layers.Dropout(0.3))\n",
        "  model.add(layers.Dense(4, activation = 'softmax'))\n",
        "  model.compile(loss='sparse_categorical_crossentropy', metrics = ['accuracy'])\n",
        "  return model\n",
        "\n",
        "model = build_CNN_LSTM_classifier_model()\n",
        "\n",
        "\n",
        "\n",
        "early_stop = keras.callbacks.EarlyStopping(monitor='val_loss', patience = 5)\n",
        "\n",
        "history = model.fit(train_scaled, train_classified_target, epochs=50,\n",
        "                    validation_data = (val_scaled, val_classified_target), verbose = 0, callbacks = [PrintDot()])"
      ],
      "execution_count": 11,
      "outputs": [
        {
          "output_type": "stream",
          "name": "stdout",
          "text": [
            "\n",
            ".................................................."
          ]
        }
      ]
    },
    {
      "cell_type": "code",
      "metadata": {
        "id": "RZoWG-YcQHoV",
        "colab": {
          "base_uri": "https://localhost:8080/"
        },
        "outputId": "86db3948-2a72-4868-dd4d-f03a7d8cf9cc"
      },
      "source": [
        "def build_CNN_LSTM_Regression_model():\n",
        "  cnn = keras.Sequential()\n",
        "  cnn.add(layers.Conv1D(filters = 32, kernel_size = 3, activation='relu', input_shape = (9,1)))\n",
        "  cnn.add(layers.MaxPooling1D(pool_size=2))\n",
        "  cnn.add(layers.Dropout(0.3))\n",
        "\n",
        "  model = keras.Sequential()\n",
        "  model.add(cnn)\n",
        "  model.add(layers.LSTM(128, input_shape = (9, 1), return_sequences = True))\n",
        "  model.add(layers.Dropout(0.3))\n",
        "  model.add(layers.LSTM(128, return_sequences = True))\n",
        "  model.add(layers.Dropout(0.3))\n",
        "  model.add(layers.LSTM(128, return_sequences = False))\n",
        "  model.add(layers.Dropout(0.3))\n",
        "  model.add(layers.Dense(1))\n",
        "  model.compile(loss='mean_squared_error', metrics = ['mse'])\n",
        "  return model\n",
        "\n",
        "model = build_CNN_LSTM_Regression_model()\n",
        "\n",
        "\n",
        "\n",
        "early_stop = keras.callbacks.EarlyStopping(monitor='val_loss', patience = 5)\n",
        "\n",
        "history = model.fit(train_scaled, train_target, epochs=50,\n",
        "                    validation_data = (val_scaled, val_target), verbose = 0, callbacks = [PrintDot()])"
      ],
      "execution_count": null,
      "outputs": [
        {
          "output_type": "stream",
          "name": "stdout",
          "text": [
            "\n",
            ".................................................."
          ]
        }
      ]
    },
    {
      "cell_type": "code",
      "metadata": {
        "colab": {
          "base_uri": "https://localhost:8080/",
          "height": 320
        },
        "id": "CNa6htvWCmH6",
        "outputId": "9e90c24e-560e-493d-cb2c-923041d34843"
      },
      "source": [
        "model.evaluate(val_scaled, val_classified_target)\n",
        "predictions = model.predict(val_scaled)\n",
        "print(np.argmax(predictions[0]))\n",
        "print(val_classified_target[0])\n",
        "plt.plot(model.predict(val_scaled), label = 'predict')\n",
        "plt.legend()\n",
        "plt.show()\n"
      ],
      "execution_count": null,
      "outputs": [
        {
          "output_type": "stream",
          "name": "stdout",
          "text": [
            "152/152 [==============================] - 1s 7ms/step - loss: 0.6350 - accuracy: 0.7222\n",
            "0\n",
            "0\n"
          ]
        },
        {
          "output_type": "display_data",
          "data": {
            "image/png": "[encoded data removed]",
            "text/plain": [
              "<Figure size 432x288 with 1 Axes>"
            ]
          },
          "metadata": {
            "needs_background": "light"
          }
        }
      ]
    },
    {
      "cell_type": "code",
      "metadata": {
        "id": "xebHlHMNS0IH"
      },
      "source": [
        "model.evaluate(val_scaled, val_target)\n",
        "predictions = model.predict(val_scaled)\n",
        "print(np.argmax(predictions[0]))\n",
        "print(val_target[0])\n",
        "plt.plot(predictions, label = 'predict')\n",
        "plt.legend()\n",
        "plt.show()"
      ],
      "execution_count": null,
      "outputs": []
    },
    {
      "cell_type": "code",
      "metadata": {
        "colab": {
          "base_uri": "https://localhost:8080/",
          "height": 297
        },
        "id": "4FlK5RSw1-Zr",
        "outputId": "999848a7-9ac7-4918-812c-6d47ad45f513"
      },
      "source": [
        "model.evaluate(val_scaled, val_classified_target)\n",
        "\n",
        "plt.plot(history.history['loss'])\n",
        "plt.xlabel('epoch')\n",
        "plt.ylabel('loss')\n",
        "plt.show()\n"
      ],
      "execution_count": null,
      "outputs": [
        {
          "output_type": "stream",
          "name": "stdout",
          "text": [
            "304/304 [==============================] - 2s 6ms/step - loss: 0.6481 - accuracy: 0.7220\n"
          ]
        },
        {
          "output_type": "display_data",
          "data": {
            "image/png": "[encoded data removed]",
            "text/plain": [
              "<Figure size 432x288 with 1 Axes>"
            ]
          },
          "metadata": {
            "needs_background": "light"
          }
        }
      ]
    },
    {
      "cell_type": "code",
      "metadata": {
        "colab": {
          "base_uri": "https://localhost:8080/"
        },
        "id": "XTv0btUF89Ed",
        "outputId": "fdcd0cb5-8f61-4efe-db2f-7d49bebaba94"
      },
      "source": [
        "KST = dt.timezone(dt.timedelta(hours=9))\n",
        "date = dt.datetime.now(tz =KST)\n",
        "base_date = date.strftime(\"%Y%m%d\")\n",
        "hour = int(date.strftime(\"%H\"))\n",
        "minute = int(date.strftime(\"%M\"))\n",
        "if(minute < 45): # API제공 시간이 시각마다 45분부터이므로 45분 전이라면 시간 - 1\n",
        "  hour-=1\n",
        "hour = f\"{hour:0>2}\"\n",
        "minute = f\"{minute:0>2}\"\n",
        "base_time = hour+minute\n",
        "print(base_date, base_time)"
      ],
      "execution_count": null,
      "outputs": [
        {
          "output_type": "stream",
          "name": "stdout",
          "text": [
            "20211123 1119\n"
          ]
        }
      ]
    },
    {
      "cell_type": "code",
      "metadata": {
        "colab": {
          "base_uri": "https://localhost:8080/"
        },
        "id": "zuEErgkWk9Pl",
        "outputId": "d30cde06-a934-45be-a7fe-aac7eefbe7ab"
      },
      "source": [
        "url = \"http://apis.data.go.kr/1360000/VilageFcstInfoService_2.0/getUltraSrtFcst\"\n",
        "my_API_key = unquote('cBn6gi4qKDLBlWB%2Bgbi8oMmvSfuLJiB0AB17c%2FGTkYt3ANSA51kBQ4RaRConOzij%2BID0X7VQbSRtcLGDcwGY9g%3D%3D')\n",
        "queryParams = '?' + urlencode(    # get 방식으로 쿼리를 분리하기 위해 '?'를 넣은 것이다. 메타코드 아님.\n",
        "    {\n",
        "        quote_plus('ServiceKey') : my_API_key,\n",
        "        quote_plus('numOfRows') : '100', \n",
        "        quote_plus('pageNo') : '1',\n",
        "        quote_plus('base_date') : base_date,\n",
        "        quote_plus('base_time') : base_time,\n",
        "        quote_plus('nx') : '60',\n",
        "        quote_plus('ny') : '127'\n",
        "     }\n",
        ")\n",
        "response = requests.get(url + queryParams).text.encode('utf-8')\n",
        "print(response)\n",
        "xmlobj = bs4.BeautifulSoup(response, 'lxml-xml')\n",
        "rows = xmlobj.findAll('item')"
      ],
      "execution_count": null,
      "outputs": [
        {
          "output_type": "stream",
          "name": "stdout",
          "text": [
            "b'<?xml version=\"1.0\" encoding=\"UTF-8\"?>\\r\\n<response><header><resultCode>00</resultCode><resultMsg>NORMAL_SERVICE</resultMsg></header><body><dataType>XML</dataType><items><item><baseDate>20211123</baseDate><baseTime>1130</baseTime><category>LGT</category><fcstDate>20211123</fcstDate><fcstTime>1200</fcstTime><fcstValue>0</fcstValue><nx>60</nx><ny>127</ny></item><item><baseDate>20211123</baseDate><baseTime>1130</baseTime><category>LGT</category><fcstDate>20211123</fcstDate><fcstTime>1300</fcstTime><fcstValue>0</fcstValue><nx>60</nx><ny>127</ny></item><item><baseDate>20211123</baseDate><baseTime>1130</baseTime><category>LGT</category><fcstDate>20211123</fcstDate><fcstTime>1400</fcstTime><fcstValue>0</fcstValue><nx>60</nx><ny>127</ny></item><item><baseDate>20211123</baseDate><baseTime>1130</baseTime><category>LGT</category><fcstDate>20211123</fcstDate><fcstTime>1500</fcstTime><fcstValue>0</fcstValue><nx>60</nx><ny>127</ny></item><item><baseDate>20211123</baseDate><baseTime>1130</baseTime><category>LGT</category><fcstDate>20211123</fcstDate><fcstTime>1600</fcstTime><fcstValue>0</fcstValue><nx>60</nx><ny>127</ny></item><item><baseDate>20211123</baseDate><baseTime>1130</baseTime><category>LGT</category><fcstDate>20211123</fcstDate><fcstTime>1700</fcstTime><fcstValue>0</fcstValue><nx>60</nx><ny>127</ny></item><item><baseDate>20211123</baseDate><baseTime>1130</baseTime><category>PTY</category><fcstDate>20211123</fcstDate><fcstTime>1200</fcstTime><fcstValue>0</fcstValue><nx>60</nx><ny>127</ny></item><item><baseDate>20211123</baseDate><baseTime>1130</baseTime><category>PTY</category><fcstDate>20211123</fcstDate><fcstTime>1300</fcstTime><fcstValue>0</fcstValue><nx>60</nx><ny>127</ny></item><item><baseDate>20211123</baseDate><baseTime>1130</baseTime><category>PTY</category><fcstDate>20211123</fcstDate><fcstTime>1400</fcstTime><fcstValue>0</fcstValue><nx>60</nx><ny>127</ny></item><item><baseDate>20211123</baseDate><baseTime>1130</baseTime><category>PTY</category><fcstDate>20211123</fcstDate><fcstTime>1500</fcstTime><fcstValue>0</fcstValue><nx>60</nx><ny>127</ny></item><item><baseDate>20211123</baseDate><baseTime>1130</baseTime><category>PTY</category><fcstDate>20211123</fcstDate><fcstTime>1600</fcstTime><fcstValue>0</fcstValue><nx>60</nx><ny>127</ny></item><item><baseDate>20211123</baseDate><baseTime>1130</baseTime><category>PTY</category><fcstDate>20211123</fcstDate><fcstTime>1700</fcstTime><fcstValue>0</fcstValue><nx>60</nx><ny>127</ny></item><item><baseDate>20211123</baseDate><baseTime>1130</baseTime><category>RN1</category><fcstDate>20211123</fcstDate><fcstTime>1200</fcstTime><fcstValue>1.0mm \\xeb\\xaf\\xb8\\xeb\\xa7\\x8c</fcstValue><nx>60</nx><ny>127</ny></item><item><baseDate>20211123</baseDate><baseTime>1130</baseTime><category>RN1</category><fcstDate>20211123</fcstDate><fcstTime>1300</fcstTime><fcstValue>1.0mm \\xeb\\xaf\\xb8\\xeb\\xa7\\x8c</fcstValue><nx>60</nx><ny>127</ny></item><item><baseDate>20211123</baseDate><baseTime>1130</baseTime><category>RN1</category><fcstDate>20211123</fcstDate><fcstTime>1400</fcstTime><fcstValue>1.0mm \\xeb\\xaf\\xb8\\xeb\\xa7\\x8c</fcstValue><nx>60</nx><ny>127</ny></item><item><baseDate>20211123</baseDate><baseTime>1130</baseTime><category>RN1</category><fcstDate>20211123</fcstDate><fcstTime>1500</fcstTime><fcstValue>1.0mm \\xeb\\xaf\\xb8\\xeb\\xa7\\x8c</fcstValue><nx>60</nx><ny>127</ny></item><item><baseDate>20211123</baseDate><baseTime>1130</baseTime><category>RN1</category><fcstDate>20211123</fcstDate><fcstTime>1600</fcstTime><fcstValue>1.0mm \\xeb\\xaf\\xb8\\xeb\\xa7\\x8c</fcstValue><nx>60</nx><ny>127</ny></item><item><baseDate>20211123</baseDate><baseTime>1130</baseTime><category>RN1</category><fcstDate>20211123</fcstDate><fcstTime>1700</fcstTime><fcstValue>1.0mm \\xeb\\xaf\\xb8\\xeb\\xa7\\x8c</fcstValue><nx>60</nx><ny>127</ny></item><item><baseDate>20211123</baseDate><baseTime>1130</baseTime><category>SKY</category><fcstDate>20211123</fcstDate><fcstTime>1200</fcstTime><fcstValue>1</fcstValue><nx>60</nx><ny>127</ny></item><item><baseDate>20211123</baseDate><baseTime>1130</baseTime><category>SKY</category><fcstDate>20211123</fcstDate><fcstTime>1300</fcstTime><fcstValue>1</fcstValue><nx>60</nx><ny>127</ny></item><item><baseDate>20211123</baseDate><baseTime>1130</baseTime><category>SKY</category><fcstDate>20211123</fcstDate><fcstTime>1400</fcstTime><fcstValue>1</fcstValue><nx>60</nx><ny>127</ny></item><item><baseDate>20211123</baseDate><baseTime>1130</baseTime><category>SKY</category><fcstDate>20211123</fcstDate><fcstTime>1500</fcstTime><fcstValue>1</fcstValue><nx>60</nx><ny>127</ny></item><item><baseDate>20211123</baseDate><baseTime>1130</baseTime><category>SKY</category><fcstDate>20211123</fcstDate><fcstTime>1600</fcstTime><fcstValue>1</fcstValue><nx>60</nx><ny>127</ny></item><item><baseDate>20211123</baseDate><baseTime>1130</baseTime><category>SKY</category><fcstDate>20211123</fcstDate><fcstTime>1700</fcstTime><fcstValue>1</fcstValue><nx>60</nx><ny>127</ny></item><item><baseDate>20211123</baseDate><baseTime>1130</baseTime><category>T1H</category><fcstDate>20211123</fcstDate><fcstTime>1200</fcstTime><fcstValue>1</fcstValue><nx>60</nx><ny>127</ny></item><item><baseDate>20211123</baseDate><baseTime>1130</baseTime><category>T1H</category><fcstDate>20211123</fcstDate><fcstTime>1300</fcstTime><fcstValue>1</fcstValue><nx>60</nx><ny>127</ny></item><item><baseDate>20211123</baseDate><baseTime>1130</baseTime><category>T1H</category><fcstDate>20211123</fcstDate><fcstTime>1400</fcstTime><fcstValue>2</fcstValue><nx>60</nx><ny>127</ny></item><item><baseDate>20211123</baseDate><baseTime>1130</baseTime><category>T1H</category><fcstDate>20211123</fcstDate><fcstTime>1500</fcstTime><fcstValue>3</fcstValue><nx>60</nx><ny>127</ny></item><item><baseDate>20211123</baseDate><baseTime>1130</baseTime><category>T1H</category><fcstDate>20211123</fcstDate><fcstTime>1600</fcstTime><fcstValue>3</fcstValue><nx>60</nx><ny>127</ny></item><item><baseDate>20211123</baseDate><baseTime>1130</baseTime><category>T1H</category><fcstDate>20211123</fcstDate><fcstTime>1700</fcstTime><fcstValue>2</fcstValue><nx>60</nx><ny>127</ny></item><item><baseDate>20211123</baseDate><baseTime>1130</baseTime><category>REH</category><fcstDate>20211123</fcstDate><fcstTime>1200</fcstTime><fcstValue>45</fcstValue><nx>60</nx><ny>127</ny></item><item><baseDate>20211123</baseDate><baseTime>1130</baseTime><category>REH</category><fcstDate>20211123</fcstDate><fcstTime>1300</fcstTime><fcstValue>40</fcstValue><nx>60</nx><ny>127</ny></item><item><baseDate>20211123</baseDate><baseTime>1130</baseTime><category>REH</category><fcstDate>20211123</fcstDate><fcstTime>1400</fcstTime><fcstValue>45</fcstValue><nx>60</nx><ny>127</ny></item><item><baseDate>20211123</baseDate><baseTime>1130</baseTime><category>REH</category><fcstDate>20211123</fcstDate><fcstTime>1500</fcstTime><fcstValue>45</fcstValue><nx>60</nx><ny>127</ny></item><item><baseDate>20211123</baseDate><baseTime>1130</baseTime><category>REH</category><fcstDate>20211123</fcstDate><fcstTime>1600</fcstTime><fcstValue>55</fcstValue><nx>60</nx><ny>127</ny></item><item><baseDate>20211123</baseDate><baseTime>1130</baseTime><category>REH</category><fcstDate>20211123</fcstDate><fcstTime>1700</fcstTime><fcstValue>55</fcstValue><nx>60</nx><ny>127</ny></item><item><baseDate>20211123</baseDate><baseTime>1130</baseTime><category>UUU</category><fcstDate>20211123</fcstDate><fcstTime>1200</fcstTime><fcstValue>3</fcstValue><nx>60</nx><ny>127</ny></item><item><baseDate>20211123</baseDate><baseTime>1130</baseTime><category>UUU</category><fcstDate>20211123</fcstDate><fcstTime>1300</fcstTime><fcstValue>3.4</fcstValue><nx>60</nx><ny>127</ny></item><item><baseDate>20211123</baseDate><baseTime>1130</baseTime><category>UUU</category><fcstDate>20211123</fcstDate><fcstTime>1400</fcstTime><fcstValue>3.7</fcstValue><nx>60</nx><ny>127</ny></item><item><baseDate>20211123</baseDate><baseTime>1130</baseTime><category>UUU</category><fcstDate>20211123</fcstDate><fcstTime>1500</fcstTime><fcstValue>4</fcstValue><nx>60</nx><ny>127</ny></item><item><baseDate>20211123</baseDate><baseTime>1130</baseTime><category>UUU</category><fcstDate>20211123</fcstDate><fcstTime>1600</fcstTime><fcstValue>3.2</fcstValue><nx>60</nx><ny>127</ny></item><item><baseDate>20211123</baseDate><baseTime>1130</baseTime><category>UUU</category><fcstDate>20211123</fcstDate><fcstTime>1700</fcstTime><fcstValue>1.5</fcstValue><nx>60</nx><ny>127</ny></item><item><baseDate>20211123</baseDate><baseTime>1130</baseTime><category>VVV</category><fcstDate>20211123</fcstDate><fcstTime>1200</fcstTime><fcstValue>0</fcstValue><nx>60</nx><ny>127</ny></item><item><baseDate>20211123</baseDate><baseTime>1130</baseTime><category>VVV</category><fcstDate>20211123</fcstDate><fcstTime>1300</fcstTime><fcstValue>-0.2</fcstValue><nx>60</nx><ny>127</ny></item><item><baseDate>20211123</baseDate><baseTime>1130</baseTime><category>VVV</category><fcstDate>20211123</fcstDate><fcstTime>1400</fcstTime><fcstValue>-0.5</fcstValue><nx>60</nx><ny>127</ny></item><item><baseDate>20211123</baseDate><baseTime>1130</baseTime><category>VVV</category><fcstDate>20211123</fcstDate><fcstTime>1500</fcstTime><fcstValue>-1</fcstValue><nx>60</nx><ny>127</ny></item><item><baseDate>20211123</baseDate><baseTime>1130</baseTime><category>VVV</category><fcstDate>20211123</fcstDate><fcstTime>1600</fcstTime><fcstValue>-1</fcstValue><nx>60</nx><ny>127</ny></item><item><baseDate>20211123</baseDate><baseTime>1130</baseTime><category>VVV</category><fcstDate>20211123</fcstDate><fcstTime>1700</fcstTime><fcstValue>-0.6</fcstValue><nx>60</nx><ny>127</ny></item><item><baseDate>20211123</baseDate><baseTime>1130</baseTime><category>VEC</category><fcstDate>20211123</fcstDate><fcstTime>1200</fcstTime><fcstValue>272</fcstValue><nx>60</nx><ny>127</ny></item><item><baseDate>20211123</baseDate><baseTime>1130</baseTime><category>VEC</category><fcstDate>20211123</fcstDate><fcstTime>1300</fcstTime><fcstValue>274</fcstValue><nx>60</nx><ny>127</ny></item><item><baseDate>20211123</baseDate><baseTime>1130</baseTime><category>VEC</category><fcstDate>20211123</fcstDate><fcstTime>1400</fcstTime><fcstValue>279</fcstValue><nx>60</nx><ny>127</ny></item><item><baseDate>20211123</baseDate><baseTime>1130</baseTime><category>VEC</category><fcstDate>20211123</fcstDate><fcstTime>1500</fcstTime><fcstValue>285</fcstValue><nx>60</nx><ny>127</ny></item><item><baseDate>20211123</baseDate><baseTime>1130</baseTime><category>VEC</category><fcstDate>20211123</fcstDate><fcstTime>1600</fcstTime><fcstValue>289</fcstValue><nx>60</nx><ny>127</ny></item><item><baseDate>20211123</baseDate><baseTime>1130</baseTime><category>VEC</category><fcstDate>20211123</fcstDate><fcstTime>1700</fcstTime><fcstValue>295</fcstValue><nx>60</nx><ny>127</ny></item><item><baseDate>20211123</baseDate><baseTime>1130</baseTime><category>WSD</category><fcstDate>20211123</fcstDate><fcstTime>1200</fcstTime><fcstValue>3</fcstValue><nx>60</nx><ny>127</ny></item><item><baseDate>20211123</baseDate><baseTime>1130</baseTime><category>WSD</category><fcstDate>20211123</fcstDate><fcstTime>1300</fcstTime><fcstValue>4</fcstValue><nx>60</nx><ny>127</ny></item><item><baseDate>20211123</baseDate><baseTime>1130</baseTime><category>WSD</category><fcstDate>20211123</fcstDate><fcstTime>1400</fcstTime><fcstValue>4</fcstValue><nx>60</nx><ny>127</ny></item><item><baseDate>20211123</baseDate><baseTime>1130</baseTime><category>WSD</category><fcstDate>20211123</fcstDate><fcstTime>1500</fcstTime><fcstValue>4</fcstValue><nx>60</nx><ny>127</ny></item><item><baseDate>20211123</baseDate><baseTime>1130</baseTime><category>WSD</category><fcstDate>20211123</fcstDate><fcstTime>1600</fcstTime><fcstValue>3</fcstValue><nx>60</nx><ny>127</ny></item><item><baseDate>20211123</baseDate><baseTime>1130</baseTime><category>WSD</category><fcstDate>20211123</fcstDate><fcstTime>1700</fcstTime><fcstValue>2</fcstValue><nx>60</nx><ny>127</ny></item></items><numOfRows>100</numOfRows><pageNo>1</pageNo><totalCount>60</totalCount></body></response>\\r\\n'\n"
          ]
        }
      ]
    },
    {
      "cell_type": "code",
      "metadata": {
        "colab": {
          "base_uri": "https://localhost:8080/"
        },
        "id": "aI5sx8_tqY3k",
        "outputId": "2340bb6d-b686-4dc9-879c-7faf47327973"
      },
      "source": [
        "rowList = []\n",
        "nameList = []\n",
        "columnList = []\n",
        "\n",
        "rowsLen = len(rows)\n",
        "for i in range(0, rowsLen):\n",
        "    columns = rows[i].find_all()\n",
        "    \n",
        "    columnsLen = len(columns)\n",
        "    for j in range(0, columnsLen):\n",
        "        # 첫 번째 행 데이터 값 수집 시에만 컬럼 값을 저장한다. (어차피 rows[0], rows[1], ... 모두 컬럼헤더는 동일한 값을 가지기 때문에 매번 반복할 필요가 없다.)\n",
        "        if i == 0:\n",
        "            nameList.append(columns[j].name)\n",
        "        # 컬럼값은 모든 행의 값을 저장해야한다.    \n",
        "        eachColumn = columns[j].text\n",
        "        columnList.append(eachColumn)\n",
        "    rowList.append(columnList)\n",
        "    columnList = []    # 다음 row의 값을 넣기 위해 비워준다. (매우 중요!!)\n",
        "    \n",
        "result = pd.DataFrame(rowList, columns=nameList)\n",
        "result_sortedby_time = result.sort_values(by = ['category', 'fcstDate', 'fcstTime']) # 카테고리(input 데이터 인자의 종류), 예보 시간 순으로 정렬\n",
        "str_expr = \"(category == 'T1H') or (category == 'RN1') or (category == 'SKY') or (category == 'REH') or (category == 'VEC') or (category == 'WSD')\"\n",
        "selected_result = result_sortedby_time.query(str_expr)\n",
        "selected_result.loc[selected_result['fcstValue'] == '1.0mm 미만', 'fcstValue'] = 0 # df.loc으로 fcstValue가 1mm 미만이라면 0으로 수정\n",
        "selected_result.loc[selected_result['fcstValue'] == '1.0mm', 'fcstValue'] = 1\n",
        "print(selected_result)\n",
        "\n",
        "t1h = []\n",
        "rn1 = []\n",
        "sky = []\n",
        "reh = []\n",
        "vec = []\n",
        "wsd = []\n",
        "t1h = selected_result[selected_result['category'] == 'T1H']\n",
        "rn1 = selected_result[selected_result['category'] == 'RN1']\n",
        "sky = selected_result[selected_result['category'] == 'SKY']\n",
        "reh = selected_result[selected_result['category'] == 'REH']\n",
        "vec = selected_result[selected_result['category'] == 'VEC']\n",
        "wsd = selected_result[selected_result['category'] == 'WSD']\n",
        "\n",
        "t1h = t1h[['fcstValue']]\n",
        "rn1 = rn1[['fcstValue']]\n",
        "sky = sky[['fcstValue']]\n",
        "reh = reh[['fcstValue']]\n",
        "vec = vec[['fcstValue']]\n",
        "wsd = wsd[['fcstValue']]\n",
        "\n",
        "t1h = np.array(t1h).astype(np.float)\n",
        "rn1 = np.array(rn1).astype(np.float)\n",
        "sky = np.array(sky).astype(np.float)\n",
        "reh = np.array(reh).astype(np.float)\n",
        "vec = np.array(vec).astype(np.float)\n",
        "wsd = np.array(wsd).astype(np.float)"
      ],
      "execution_count": null,
      "outputs": [
        {
          "output_type": "stream",
          "name": "stdout",
          "text": [
            "    baseDate baseTime category  fcstDate fcstTime fcstValue  nx   ny\n",
            "30  20211123     1130      REH  20211123     1200        45  60  127\n",
            "31  20211123     1130      REH  20211123     1300        40  60  127\n",
            "32  20211123     1130      REH  20211123     1400        45  60  127\n",
            "33  20211123     1130      REH  20211123     1500        45  60  127\n",
            "34  20211123     1130      REH  20211123     1600        55  60  127\n",
            "35  20211123     1130      REH  20211123     1700        55  60  127\n",
            "12  20211123     1130      RN1  20211123     1200         0  60  127\n",
            "13  20211123     1130      RN1  20211123     1300         0  60  127\n",
            "14  20211123     1130      RN1  20211123     1400         0  60  127\n",
            "15  20211123     1130      RN1  20211123     1500         0  60  127\n",
            "16  20211123     1130      RN1  20211123     1600         0  60  127\n",
            "17  20211123     1130      RN1  20211123     1700         0  60  127\n",
            "18  20211123     1130      SKY  20211123     1200         1  60  127\n",
            "19  20211123     1130      SKY  20211123     1300         1  60  127\n",
            "20  20211123     1130      SKY  20211123     1400         1  60  127\n",
            "21  20211123     1130      SKY  20211123     1500         1  60  127\n",
            "22  20211123     1130      SKY  20211123     1600         1  60  127\n",
            "23  20211123     1130      SKY  20211123     1700         1  60  127\n",
            "24  20211123     1130      T1H  20211123     1200         1  60  127\n",
            "25  20211123     1130      T1H  20211123     1300         1  60  127\n",
            "26  20211123     1130      T1H  20211123     1400         2  60  127\n",
            "27  20211123     1130      T1H  20211123     1500         3  60  127\n",
            "28  20211123     1130      T1H  20211123     1600         3  60  127\n",
            "29  20211123     1130      T1H  20211123     1700         2  60  127\n",
            "48  20211123     1130      VEC  20211123     1200       272  60  127\n",
            "49  20211123     1130      VEC  20211123     1300       274  60  127\n",
            "50  20211123     1130      VEC  20211123     1400       279  60  127\n",
            "51  20211123     1130      VEC  20211123     1500       285  60  127\n",
            "52  20211123     1130      VEC  20211123     1600       289  60  127\n",
            "53  20211123     1130      VEC  20211123     1700       295  60  127\n",
            "54  20211123     1130      WSD  20211123     1200         3  60  127\n",
            "55  20211123     1130      WSD  20211123     1300         4  60  127\n",
            "56  20211123     1130      WSD  20211123     1400         4  60  127\n",
            "57  20211123     1130      WSD  20211123     1500         4  60  127\n",
            "58  20211123     1130      WSD  20211123     1600         3  60  127\n",
            "59  20211123     1130      WSD  20211123     1700         2  60  127\n"
          ]
        },
        {
          "output_type": "stream",
          "name": "stderr",
          "text": [
            "/usr/local/lib/python3.7/dist-packages/pandas/core/indexing.py:670: SettingWithCopyWarning: \n",
            "A value is trying to be set on a copy of a slice from a DataFrame\n",
            "\n",
            "See the caveats in the documentation: https://pandas.pydata.org/pandas-docs/stable/user_guide/indexing.html#returning-a-view-versus-a-copy\n",
            "  iloc._setitem_with_indexer(indexer, value)\n",
            "/usr/local/lib/python3.7/dist-packages/ipykernel_launcher.py:24: SettingWithCopyWarning: \n",
            "A value is trying to be set on a copy of a slice from a DataFrame\n",
            "\n",
            "See the caveats in the documentation: https://pandas.pydata.org/pandas-docs/stable/user_guide/indexing.html#returning-a-view-versus-a-copy\n",
            "/usr/local/lib/python3.7/dist-packages/ipykernel_launcher.py:25: SettingWithCopyWarning: \n",
            "A value is trying to be set on a copy of a slice from a DataFrame\n",
            "\n",
            "See the caveats in the documentation: https://pandas.pydata.org/pandas-docs/stable/user_guide/indexing.html#returning-a-view-versus-a-copy\n"
          ]
        }
      ]
    },
    {
      "cell_type": "code",
      "metadata": {
        "colab": {
          "base_uri": "https://localhost:8080/"
        },
        "id": "YIPLOiAoCNam",
        "outputId": "68a52dcf-284b-409b-c91e-b694b5c318ae"
      },
      "source": [
        "url = \"http://apis.data.go.kr/B552584/ArpltnInforInqireSvc/getMsrstnAcctoRltmMesureDnsty\"\n",
        "my_API_key = unquote('cBn6gi4qKDLBlWB%2Bgbi8oMmvSfuLJiB0AB17c%2FGTkYt3ANSA51kBQ4RaRConOzij%2BID0X7VQbSRtcLGDcwGY9g%3D%3D')\n",
        "queryParams = '?' + urlencode(    # get 방식으로 쿼리를 분리하기 위해 '?'를 넣은 것이다. 메타코드 아님.\n",
        "    {\n",
        "        quote_plus('serviceKey') : my_API_key,\n",
        "        quote_plus('returnType') : 'xml', \n",
        "        quote_plus('numOfRows') : '100',\n",
        "        quote_plus('pageNo') : '1',\n",
        "        quote_plus('stationName') : '종로구',\n",
        "        quote_plus('dataTerm') : 'DAILY'\n",
        "     }\n",
        ")\n",
        "response = requests.get(url + queryParams).text.encode('utf-8')\n",
        "print(response)\n",
        "xmlobj = bs4.BeautifulSoup(response, 'lxml-xml')\n",
        "rows = xmlobj.findAll('item')"
      ],
      "execution_count": null,
      "outputs": [
        {
          "output_type": "stream",
          "name": "stdout",
          "text": [
            "b'<?xml version=\"1.0\" encoding=\"UTF-8\"?>\\r\\n<response>\\n  <header>\\n    <resultCode>00</resultCode>\\n    <resultMsg>NORMAL_CODE</resultMsg>\\n  </header>\\n  <body>\\n    <items>\\n      <item>\\n        <so2Grade>1</so2Grade>\\n        <coFlag/>\\n        <khaiValue>53</khaiValue>\\n        <so2Value>0.003</so2Value>\\n        <coValue>0.4</coValue>\\n        <pm10Flag/>\\n        <pm10Value>39</pm10Value>\\n        <o3Grade>1</o3Grade>\\n        <khaiGrade>2</khaiGrade>\\n        <no2Flag/>\\n        <no2Grade>1</no2Grade>\\n        <o3Flag/>\\n        <so2Flag/>\\n        <dataTime>2021-11-23 12:00</dataTime>\\n        <coGrade>1</coGrade>\\n        <no2Value>0.014</no2Value>\\n        <pm10Grade>2</pm10Grade>\\n        <o3Value>0.023</o3Value>\\n      </item>\\n      <item>\\n        <so2Grade>1</so2Grade>\\n        <coFlag/>\\n        <khaiValue>51</khaiValue>\\n        <so2Value>0.003</so2Value>\\n        <coValue>0.4</coValue>\\n        <pm10Flag/>\\n        <pm10Value>41</pm10Value>\\n        <o3Grade>1</o3Grade>\\n        <khaiGrade>2</khaiGrade>\\n        <no2Flag/>\\n        <no2Grade>1</no2Grade>\\n        <o3Flag/>\\n        <so2Flag/>\\n        <dataTime>2021-11-23 11:00</dataTime>\\n        <coGrade>1</coGrade>\\n        <no2Value>0.019</no2Value>\\n        <pm10Grade>2</pm10Grade>\\n        <o3Value>0.018</o3Value>\\n      </item>\\n      <item>\\n        <so2Grade>1</so2Grade>\\n        <coFlag/>\\n        <khaiValue>48</khaiValue>\\n        <so2Value>0.003</so2Value>\\n        <coValue>0.4</coValue>\\n        <pm10Flag/>\\n        <pm10Value>34</pm10Value>\\n        <o3Grade>1</o3Grade>\\n        <khaiGrade>1</khaiGrade>\\n        <no2Flag/>\\n        <no2Grade>1</no2Grade>\\n        <o3Flag/>\\n        <so2Flag/>\\n        <dataTime>2021-11-23 10:00</dataTime>\\n        <coGrade>1</coGrade>\\n        <no2Value>0.019</no2Value>\\n        <pm10Grade>1</pm10Grade>\\n        <o3Value>0.018</o3Value>\\n      </item>\\n      <item>\\n        <so2Grade>1</so2Grade>\\n        <coFlag/>\\n        <khaiValue>47</khaiValue>\\n        <so2Value>0.002</so2Value>\\n        <coValue>0.4</coValue>\\n        <pm10Flag/>\\n        <pm10Value>31</pm10Value>\\n        <o3Grade>1</o3Grade>\\n        <khaiGrade>1</khaiGrade>\\n        <no2Flag/>\\n        <no2Grade>1</no2Grade>\\n        <o3Flag/>\\n        <so2Flag/>\\n        <dataTime>2021-11-23 09:00</dataTime>\\n        <coGrade>1</coGrade>\\n        <no2Value>0.022</no2Value>\\n        <pm10Grade>1</pm10Grade>\\n        <o3Value>0.014</o3Value>\\n      </item>\\n      <item>\\n        <so2Grade>1</so2Grade>\\n        <coFlag/>\\n        <khaiValue>47</khaiValue>\\n        <so2Value>0.002</so2Value>\\n        <coValue>0.4</coValue>\\n        <pm10Flag/>\\n        <pm10Value>27</pm10Value>\\n        <o3Grade>1</o3Grade>\\n        <khaiGrade>1</khaiGrade>\\n        <no2Flag/>\\n        <no2Grade>1</no2Grade>\\n        <o3Flag/>\\n        <so2Flag/>\\n        <dataTime>2021-11-23 08:00</dataTime>\\n        <coGrade>1</coGrade>\\n        <no2Value>0.024</no2Value>\\n        <pm10Grade>1</pm10Grade>\\n        <o3Value>0.012</o3Value>\\n      </item>\\n      <item>\\n        <so2Grade>1</so2Grade>\\n        <coFlag/>\\n        <khaiValue>50</khaiValue>\\n        <so2Value>0.002</so2Value>\\n        <coValue>0.3</coValue>\\n        <pm10Flag/>\\n        <pm10Value>25</pm10Value>\\n        <o3Grade>1</o3Grade>\\n        <khaiGrade>1</khaiGrade>\\n        <no2Flag/>\\n        <no2Grade>1</no2Grade>\\n        <o3Flag/>\\n        <so2Flag/>\\n        <dataTime>2021-11-23 07:00</dataTime>\\n        <coGrade>1</coGrade>\\n        <no2Value>0.014</no2Value>\\n        <pm10Grade>1</pm10Grade>\\n        <o3Value>0.021</o3Value>\\n      </item>\\n      <item>\\n        <so2Grade>1</so2Grade>\\n        <coFlag/>\\n        <khaiValue>51</khaiValue>\\n        <so2Value>0.002</so2Value>\\n        <coValue>0.3</coValue>\\n        <pm10Flag/>\\n        <pm10Value>25</pm10Value>\\n        <o3Grade>1</o3Grade>\\n        <khaiGrade>2</khaiGrade>\\n        <no2Flag/>\\n        <no2Grade>1</no2Grade>\\n        <o3Flag/>\\n        <so2Flag/>\\n        <dataTime>2021-11-23 06:00</dataTime>\\n        <coGrade>1</coGrade>\\n        <no2Value>0.010</no2Value>\\n        <pm10Grade>1</pm10Grade>\\n        <o3Value>0.025</o3Value>\\n      </item>\\n      <item>\\n        <so2Grade>1</so2Grade>\\n        <coFlag/>\\n        <khaiValue>54</khaiValue>\\n        <so2Value>0.003</so2Value>\\n        <coValue>0.3</coValue>\\n        <pm10Flag/>\\n        <pm10Value>24</pm10Value>\\n        <o3Grade>1</o3Grade>\\n        <khaiGrade>2</khaiGrade>\\n        <no2Flag/>\\n        <no2Grade>1</no2Grade>\\n        <o3Flag/>\\n        <so2Flag/>\\n        <dataTime>2021-11-23 05:00</dataTime>\\n        <coGrade>1</coGrade>\\n        <no2Value>0.008</no2Value>\\n        <pm10Grade>2</pm10Grade>\\n        <o3Value>0.027</o3Value>\\n      </item>\\n      <item>\\n        <so2Grade>1</so2Grade>\\n        <coFlag/>\\n        <khaiValue>54</khaiValue>\\n        <so2Value>0.002</so2Value>\\n        <coValue>0.3</coValue>\\n        <pm10Flag/>\\n        <pm10Value>25</pm10Value>\\n        <o3Grade>1</o3Grade>\\n        <khaiGrade>2</khaiGrade>\\n        <no2Flag/>\\n        <no2Grade>1</no2Grade>\\n        <o3Flag/>\\n        <so2Flag/>\\n        <dataTime>2021-11-23 04:00</dataTime>\\n        <coGrade>1</coGrade>\\n        <no2Value>0.007</no2Value>\\n        <pm10Grade>2</pm10Grade>\\n        <o3Value>0.027</o3Value>\\n      </item>\\n      <item>\\n        <so2Grade>1</so2Grade>\\n        <coFlag/>\\n        <khaiValue>56</khaiValue>\\n        <so2Value>0.002</so2Value>\\n        <coValue>0.3</coValue>\\n        <pm10Flag/>\\n        <pm10Value>25</pm10Value>\\n        <o3Grade>1</o3Grade>\\n        <khaiGrade>2</khaiGrade>\\n        <no2Flag/>\\n        <no2Grade>1</no2Grade>\\n        <o3Flag/>\\n        <so2Flag/>\\n        <dataTime>2021-11-23 03:00</dataTime>\\n        <coGrade>1</coGrade>\\n        <no2Value>0.009</no2Value>\\n        <pm10Grade>2</pm10Grade>\\n        <o3Value>0.026</o3Value>\\n      </item>\\n      <item>\\n        <so2Grade>1</so2Grade>\\n        <coFlag/>\\n        <khaiValue>59</khaiValue>\\n        <so2Value>0.002</so2Value>\\n        <coValue>0.3</coValue>\\n        <pm10Flag/>\\n        <pm10Value>29</pm10Value>\\n        <o3Grade>1</o3Grade>\\n        <khaiGrade>2</khaiGrade>\\n        <no2Flag/>\\n        <no2Grade>1</no2Grade>\\n        <o3Flag/>\\n        <so2Flag/>\\n        <dataTime>2021-11-23 02:00</dataTime>\\n        <coGrade>1</coGrade>\\n        <no2Value>0.008</no2Value>\\n        <pm10Grade>2</pm10Grade>\\n        <o3Value>0.026</o3Value>\\n      </item>\\n      <item>\\n        <so2Grade>1</so2Grade>\\n        <coFlag/>\\n        <khaiValue>59</khaiValue>\\n        <so2Value>0.003</so2Value>\\n        <coValue>0.3</coValue>\\n        <pm10Flag/>\\n        <pm10Value>34</pm10Value>\\n        <o3Grade>1</o3Grade>\\n        <khaiGrade>2</khaiGrade>\\n        <no2Flag/>\\n        <no2Grade>1</no2Grade>\\n        <o3Flag/>\\n        <so2Flag/>\\n        <dataTime>2021-11-23 01:00</dataTime>\\n        <coGrade>1</coGrade>\\n        <no2Value>0.009</no2Value>\\n        <pm10Grade>2</pm10Grade>\\n        <o3Value>0.025</o3Value>\\n      </item>\\n      <item>\\n        <so2Grade>1</so2Grade>\\n        <coFlag/>\\n        <khaiValue>59</khaiValue>\\n        <so2Value>0.002</so2Value>\\n        <coValue>0.4</coValue>\\n        <pm10Flag/>\\n        <pm10Value>36</pm10Value>\\n        <o3Grade>1</o3Grade>\\n        <khaiGrade>2</khaiGrade>\\n        <no2Flag/>\\n        <no2Grade>1</no2Grade>\\n        <o3Flag/>\\n        <so2Flag/>\\n        <dataTime>2021-11-22 24:00</dataTime>\\n        <coGrade>1</coGrade>\\n        <no2Value>0.011</no2Value>\\n        <pm10Grade>2</pm10Grade>\\n        <o3Value>0.023</o3Value>\\n      </item>\\n      <item>\\n        <so2Grade>1</so2Grade>\\n        <coFlag/>\\n        <khaiValue>61</khaiValue>\\n        <so2Value>0.003</so2Value>\\n        <coValue>0.4</coValue>\\n        <pm10Flag/>\\n        <pm10Value>36</pm10Value>\\n        <o3Grade>1</o3Grade>\\n        <khaiGrade>2</khaiGrade>\\n        <no2Flag/>\\n        <no2Grade>1</no2Grade>\\n        <o3Flag/>\\n        <so2Flag/>\\n        <dataTime>2021-11-22 23:00</dataTime>\\n        <coGrade>1</coGrade>\\n        <no2Value>0.011</no2Value>\\n        <pm10Grade>2</pm10Grade>\\n        <o3Value>0.023</o3Value>\\n      </item>\\n      <item>\\n        <so2Grade>1</so2Grade>\\n        <coFlag/>\\n        <khaiValue>61</khaiValue>\\n        <so2Value>0.002</so2Value>\\n        <coValue>0.4</coValue>\\n        <pm10Flag/>\\n        <pm10Value>36</pm10Value>\\n        <o3Grade>1</o3Grade>\\n        <khaiGrade>2</khaiGrade>\\n        <no2Flag/>\\n        <no2Grade>1</no2Grade>\\n        <o3Flag/>\\n        <so2Flag/>\\n        <dataTime>2021-11-22 22:00</dataTime>\\n        <coGrade>1</coGrade>\\n        <no2Value>0.013</no2Value>\\n        <pm10Grade>2</pm10Grade>\\n        <o3Value>0.023</o3Value>\\n      </item>\\n      <item>\\n        <so2Grade>1</so2Grade>\\n        <coFlag/>\\n        <khaiValue>63</khaiValue>\\n        <so2Value>0.003</so2Value>\\n        <coValue>0.4</coValue>\\n        <pm10Flag/>\\n        <pm10Value>41</pm10Value>\\n        <o3Grade>1</o3Grade>\\n        <khaiGrade>2</khaiGrade>\\n        <no2Flag/>\\n        <no2Grade>1</no2Grade>\\n        <o3Flag/>\\n        <so2Flag/>\\n        <dataTime>2021-11-22 21:00</dataTime>\\n        <coGrade>1</coGrade>\\n        <no2Value>0.013</no2Value>\\n        <pm10Grade>2</pm10Grade>\\n        <o3Value>0.024</o3Value>\\n      </item>\\n      <item>\\n        <so2Grade>1</so2Grade>\\n        <coFlag/>\\n        <khaiValue>64</khaiValue>\\n        <so2Value>0.003</so2Value>\\n        <coValue>0.4</coValue>\\n        <pm10Flag/>\\n        <pm10Value>43</pm10Value>\\n        <o3Grade>1</o3Grade>\\n        <khaiGrade>2</khaiGrade>\\n        <no2Flag/>\\n        <no2Grade>1</no2Grade>\\n        <o3Flag/>\\n        <so2Flag/>\\n        <dataTime>2021-11-22 20:00</dataTime>\\n        <coGrade>1</coGrade>\\n        <no2Value>0.015</no2Value>\\n        <pm10Grade>2</pm10Grade>\\n        <o3Value>0.024</o3Value>\\n      </item>\\n      <item>\\n        <so2Grade>1</so2Grade>\\n        <coFlag/>\\n        <khaiValue>64</khaiValue>\\n        <so2Value>0.003</so2Value>\\n        <coValue>0.4</coValue>\\n        <pm10Flag/>\\n        <pm10Value>45</pm10Value>\\n        <o3Grade>1</o3Grade>\\n        <khaiGrade>2</khaiGrade>\\n        <no2Flag/>\\n        <no2Grade>1</no2Grade>\\n        <o3Flag/>\\n        <so2Flag/>\\n        <dataTime>2021-11-22 19:00</dataTime>\\n        <coGrade>1</coGrade>\\n        <no2Value>0.016</no2Value>\\n        <pm10Grade>2</pm10Grade>\\n        <o3Value>0.023</o3Value>\\n      </item>\\n      <item>\\n        <so2Grade>1</so2Grade>\\n        <coFlag/>\\n        <khaiValue>64</khaiValue>\\n        <so2Value>0.003</so2Value>\\n        <coValue>0.4</coValue>\\n        <pm10Flag/>\\n        <pm10Value>49</pm10Value>\\n        <o3Grade>1</o3Grade>\\n        <khaiGrade>2</khaiGrade>\\n        <no2Flag/>\\n        <no2Grade>1</no2Grade>\\n        <o3Flag/>\\n        <so2Flag/>\\n        <dataTime>2021-11-22 18:00</dataTime>\\n        <coGrade>1</coGrade>\\n        <no2Value>0.016</no2Value>\\n        <pm10Grade>2</pm10Grade>\\n        <o3Value>0.023</o3Value>\\n      </item>\\n      <item>\\n        <so2Grade>1</so2Grade>\\n        <coFlag/>\\n        <khaiValue>62</khaiValue>\\n        <so2Value>0.003</so2Value>\\n        <coValue>0.4</coValue>\\n        <pm10Flag/>\\n        <pm10Value>46</pm10Value>\\n        <o3Grade>1</o3Grade>\\n        <khaiGrade>2</khaiGrade>\\n        <no2Flag/>\\n        <no2Grade>1</no2Grade>\\n        <o3Flag/>\\n        <so2Flag/>\\n        <dataTime>2021-11-22 17:00</dataTime>\\n        <coGrade>1</coGrade>\\n        <no2Value>0.014</no2Value>\\n        <pm10Grade>2</pm10Grade>\\n        <o3Value>0.025</o3Value>\\n      </item>\\n      <item>\\n        <so2Grade>1</so2Grade>\\n        <coFlag/>\\n        <khaiValue>60</khaiValue>\\n        <so2Value>0.003</so2Value>\\n        <coValue>0.4</coValue>\\n        <pm10Flag/>\\n        <pm10Value>38</pm10Value>\\n        <o3Grade>1</o3Grade>\\n        <khaiGrade>2</khaiGrade>\\n        <no2Flag/>\\n        <no2Grade>1</no2Grade>\\n        <o3Flag/>\\n        <so2Flag/>\\n        <dataTime>2021-11-22 16:00</dataTime>\\n        <coGrade>1</coGrade>\\n        <no2Value>0.014</no2Value>\\n        <pm10Grade>2</pm10Grade>\\n        <o3Value>0.025</o3Value>\\n      </item>\\n      <item>\\n        <so2Grade>1</so2Grade>\\n        <coFlag/>\\n        <khaiValue>60</khaiValue>\\n        <so2Value>0.003</so2Value>\\n        <coValue>0.4</coValue>\\n        <pm10Flag/>\\n        <pm10Value>33</pm10Value>\\n        <o3Grade>1</o3Grade>\\n        <khaiGrade>2</khaiGrade>\\n        <no2Flag/>\\n        <no2Grade>1</no2Grade>\\n        <o3Flag/>\\n        <so2Flag/>\\n        <dataTime>2021-11-22 15:00</dataTime>\\n        <coGrade>1</coGrade>\\n        <no2Value>0.014</no2Value>\\n        <pm10Grade>2</pm10Grade>\\n        <o3Value>0.025</o3Value>\\n      </item>\\n      <item>\\n        <so2Grade>1</so2Grade>\\n        <coFlag/>\\n        <khaiValue>63</khaiValue>\\n        <so2Value>0.003</so2Value>\\n        <coValue>0.4</coValue>\\n        <pm10Flag/>\\n        <pm10Value>26</pm10Value>\\n        <o3Grade>1</o3Grade>\\n        <khaiGrade>2</khaiGrade>\\n        <no2Flag/>\\n        <no2Grade>1</no2Grade>\\n        <o3Flag/>\\n        <so2Flag/>\\n        <dataTime>2021-11-22 14:00</dataTime>\\n        <coGrade>1</coGrade>\\n        <no2Value>0.013</no2Value>\\n        <pm10Grade>2</pm10Grade>\\n        <o3Value>0.027</o3Value>\\n      </item>\\n    </items>\\n    <numOfRows>100</numOfRows>\\n    <pageNo>1</pageNo>\\n    <totalCount>23</totalCount>\\n  </body>\\n</response>'\n"
          ]
        }
      ]
    },
    {
      "cell_type": "code",
      "metadata": {
        "id": "9ZsawByPP-IS"
      },
      "source": [
        "rowList = []\n",
        "nameList = []\n",
        "columnList = []\n",
        "\n",
        "rowsLen = len(rows)\n",
        "\n",
        "columns = rows[0].find_all()\n",
        "    \n",
        "columnsLen = len(columns)\n",
        "for j in range(0, columnsLen):\n",
        "    nameList.append(columns[j].name)\n",
        "        # 컬럼값은 모든 행의 값을 저장해야한다.    \n",
        "    eachColumn = columns[j].text\n",
        "    columnList.append(eachColumn)\n",
        "rowList.append(columnList)\n",
        "    \n",
        "result = pd.DataFrame(rowList, columns = nameList)\n",
        "result = result[['no2Value', 'coValue', 'so2Value']].to_numpy().astype(np.float)\n",
        "result = np.repeat(result, repeats=6, axis = 0)\n",
        "result = np.concatenate((t1h, rn1, wsd, vec, reh, sky, result), axis = 1) # 데이터를 합쳐준다.\n",
        "ss.transform(result) # 정규화\n",
        "result = np.reshape(result, (result.shape[0], result.shape[1], 1)) # 데이터를 input에 맞는 형태로 reshape"
      ],
      "execution_count": null,
      "outputs": []
    },
    {
      "cell_type": "code",
      "metadata": {
        "id": "c2tXxbK6qaQ8"
      },
      "source": [
        "def revisePredictedResultToString(array): # 0,1,2,3으로 분류한 값에 따라 예보등급 문자열 설정\n",
        "  result_array = []\n",
        "  for i in range (len(array)):\n",
        "    if(array[i] < 1):\n",
        "      result_array.append('좋음')\n",
        "    elif(array[i] < 2):\n",
        "      result_array.append('보통')\n",
        "    elif(array[i] < 3):\n",
        "      result_array.append('나쁨')\n",
        "    else:\n",
        "      result_array.append('매우나쁨')\n",
        "  return result_array\n",
        "\n",
        "def print_predictedDust_for_next6hours(array):\n",
        "  for i in range (len(array)):\n",
        "    print('%2d시의 예상 미세먼지 예보 등급: %s' %((int(hour) + i+1) % 24, array[i]))"
      ],
      "execution_count": null,
      "outputs": []
    },
    {
      "cell_type": "code",
      "metadata": {
        "id": "VGSg8mAbzYx4"
      },
      "source": [
        "def print_predictedDust_numeric_for_next6hours(array):\n",
        "  for i in range (len(array)):\n",
        "    print('%2d시의 예상 미세먼지 수치: %s' %((int(hour) + i+1) % 24, array[i]))"
      ],
      "execution_count": null,
      "outputs": []
    },
    {
      "cell_type": "code",
      "metadata": {
        "colab": {
          "base_uri": "https://localhost:8080/"
        },
        "id": "rNhrHhHMXN7z",
        "outputId": "281bb3d8-7ea3-4e41-daf0-f0dd7556d704"
      },
      "source": [
        "predictions = model.predict(result)\n",
        "predictions_to_string = []\n",
        "for i in range (len(predictions)):\n",
        "  predictions_to_string.append(np.argmax(predictions[i]))\n",
        "predictions_to_string = revisePredictedResultToString(predictions_to_string)\n",
        "predictions_to_string = np.reshape(predictions_to_string, (-1,1))\n",
        "print(base_date)\n",
        "print_predictedDust_for_next6hours(predictions_to_string)"
      ],
      "execution_count": null,
      "outputs": [
        {
          "output_type": "stream",
          "name": "stdout",
          "text": [
            "20211123\n",
            "12시의 예상 미세먼지 예보 등급: ['좋음']\n",
            "13시의 예상 미세먼지 예보 등급: ['좋음']\n",
            "14시의 예상 미세먼지 예보 등급: ['좋음']\n",
            "15시의 예상 미세먼지 예보 등급: ['좋음']\n",
            "16시의 예상 미세먼지 예보 등급: ['좋음']\n",
            "17시의 예상 미세먼지 예보 등급: ['좋음']\n"
          ]
        }
      ]
    },
    {
      "cell_type": "code",
      "metadata": {
        "id": "wNAA3wMp0Fsm"
      },
      "source": [
        "predictions = model.predict(result)\n",
        "\n",
        "print_predictedDust_numeric_for_next6hours(predictions)"
      ],
      "execution_count": null,
      "outputs": []
    },
    {
      "cell_type": "code",
      "metadata": {
        "id": "Or5LyKusU7xf"
      },
      "source": [
        "from sklearn.model_selection import train_test_split\n",
        "train_input, test_input, train_target, test_target = train_test_split(weather_input, pm_data, random_state = 42)\n",
        "\n",
        "from sklearn.preprocessing import StandardScaler\n",
        "ss = StandardScaler()\n",
        "ss.fit(train_input)\n",
        "train_scaled = ss.transform(train_input)\n",
        "test_scaled = ss.transform(test_input)\n",
        "\n",
        "from sklearn.linear_model import SGDRegressor\n",
        "\n",
        "sc = SGDRegressor(loss = 'squared_loss', max_iter = 1000, random_state = 42)\n",
        "sc.fit(train_scaled, train_target)\n",
        "print(sc.predict(train_scaled))\n",
        "print(train_target)\n",
        "print(sc.score(train_scaled, train_target))\n",
        "print(sc.score(test_scaled, test_target))"
      ],
      "execution_count": null,
      "outputs": []
    },
    {
      "cell_type": "code",
      "metadata": {
        "colab": {
          "base_uri": "https://localhost:8080/"
        },
        "id": "79E3dIYtM1Y3",
        "outputId": "9bcffc0b-ecba-4e95-efa6-b109394dc87a"
      },
      "source": [
        "from sklearn.model_selection import train_test_split\n",
        "train_input, test_input, train_target, test_target = train_test_split(weather_input, pm_data, random_state = 42)\n",
        "\n",
        "from sklearn.preprocessing import StandardScaler\n",
        "ss = StandardScaler()\n",
        "ss.fit(train_input)\n",
        "train_scaled = ss.transform(train_input)\n",
        "test_scaled = ss.transform(test_input)\n",
        "\n",
        "from sklearn.linear_model import LinearRegression\n",
        "lr = LinearRegression()\n",
        "lr.fit(train_input, train_target)\n",
        "print(lr.score(test_input, test_target))"
      ],
      "execution_count": null,
      "outputs": [
        {
          "output_type": "stream",
          "name": "stdout",
          "text": [
            "0.30603952757000785\n"
          ]
        }
      ]
    }
  ]
}